{
 "cells": [
  {
   "cell_type": "markdown",
   "id": "98ff2090",
   "metadata": {},
   "source": [
    "# Import Statements"
   ]
  },
  {
   "cell_type": "code",
   "execution_count": 1,
   "id": "60167aad",
   "metadata": {},
   "outputs": [],
   "source": [
    "import numpy as np\n",
    "import pandas as pd\n",
    "import matplotlib.pyplot as plt\n",
    "import seaborn as sns"
   ]
  },
  {
   "cell_type": "code",
   "execution_count": 2,
   "id": "16b78999",
   "metadata": {},
   "outputs": [
    {
     "data": {
      "text/html": [
       "<div>\n",
       "<style scoped>\n",
       "    .dataframe tbody tr th:only-of-type {\n",
       "        vertical-align: middle;\n",
       "    }\n",
       "\n",
       "    .dataframe tbody tr th {\n",
       "        vertical-align: top;\n",
       "    }\n",
       "\n",
       "    .dataframe thead th {\n",
       "        text-align: right;\n",
       "    }\n",
       "</style>\n",
       "<table border=\"1\" class=\"dataframe\">\n",
       "  <thead>\n",
       "    <tr style=\"text-align: right;\">\n",
       "      <th></th>\n",
       "      <th>id</th>\n",
       "      <th>building_class</th>\n",
       "      <th>floor_area</th>\n",
       "      <th>year_built</th>\n",
       "      <th>precipitation_inches</th>\n",
       "      <th>snowfall_inches</th>\n",
       "      <th>avg_temp</th>\n",
       "      <th>days_with_fog</th>\n",
       "      <th>site_eui</th>\n",
       "    </tr>\n",
       "  </thead>\n",
       "  <tbody>\n",
       "    <tr>\n",
       "      <th>0</th>\n",
       "      <td>0</td>\n",
       "      <td>Commercial</td>\n",
       "      <td>61242.0</td>\n",
       "      <td>1942.0</td>\n",
       "      <td>16.59</td>\n",
       "      <td>0.0</td>\n",
       "      <td>56.972603</td>\n",
       "      <td>NaN</td>\n",
       "      <td>248.68</td>\n",
       "    </tr>\n",
       "    <tr>\n",
       "      <th>1</th>\n",
       "      <td>1</td>\n",
       "      <td>Commercial</td>\n",
       "      <td>274000.0</td>\n",
       "      <td>1955.0</td>\n",
       "      <td>16.59</td>\n",
       "      <td>0.0</td>\n",
       "      <td>56.972603</td>\n",
       "      <td>12.0</td>\n",
       "      <td>26.50</td>\n",
       "    </tr>\n",
       "    <tr>\n",
       "      <th>2</th>\n",
       "      <td>2</td>\n",
       "      <td>Commercial</td>\n",
       "      <td>280025.0</td>\n",
       "      <td>1951.0</td>\n",
       "      <td>16.59</td>\n",
       "      <td>0.0</td>\n",
       "      <td>56.972603</td>\n",
       "      <td>12.0</td>\n",
       "      <td>24.69</td>\n",
       "    </tr>\n",
       "    <tr>\n",
       "      <th>3</th>\n",
       "      <td>3</td>\n",
       "      <td>Commercial</td>\n",
       "      <td>55325.0</td>\n",
       "      <td>1980.0</td>\n",
       "      <td>16.59</td>\n",
       "      <td>0.0</td>\n",
       "      <td>56.972603</td>\n",
       "      <td>12.0</td>\n",
       "      <td>48.41</td>\n",
       "    </tr>\n",
       "    <tr>\n",
       "      <th>4</th>\n",
       "      <td>4</td>\n",
       "      <td>Commercial</td>\n",
       "      <td>66000.0</td>\n",
       "      <td>1985.0</td>\n",
       "      <td>16.59</td>\n",
       "      <td>0.0</td>\n",
       "      <td>56.972603</td>\n",
       "      <td>NaN</td>\n",
       "      <td>3.90</td>\n",
       "    </tr>\n",
       "  </tbody>\n",
       "</table>\n",
       "</div>"
      ],
      "text/plain": [
       "   id building_class  floor_area  year_built  precipitation_inches  \\\n",
       "0   0     Commercial     61242.0      1942.0                 16.59   \n",
       "1   1     Commercial    274000.0      1955.0                 16.59   \n",
       "2   2     Commercial    280025.0      1951.0                 16.59   \n",
       "3   3     Commercial     55325.0      1980.0                 16.59   \n",
       "4   4     Commercial     66000.0      1985.0                 16.59   \n",
       "\n",
       "   snowfall_inches   avg_temp  days_with_fog  site_eui  \n",
       "0              0.0  56.972603            NaN    248.68  \n",
       "1              0.0  56.972603           12.0     26.50  \n",
       "2              0.0  56.972603           12.0     24.69  \n",
       "3              0.0  56.972603           12.0     48.41  \n",
       "4              0.0  56.972603            NaN      3.90  "
      ]
     },
     "execution_count": 2,
     "metadata": {},
     "output_type": "execute_result"
    }
   ],
   "source": [
    "c_df = pd.read_csv('ClimateData.csv')\n",
    "c_df.head()"
   ]
  },
  {
   "cell_type": "markdown",
   "id": "56a02018",
   "metadata": {},
   "source": [
    "# Data Understanding and Summary"
   ]
  },
  {
   "cell_type": "code",
   "execution_count": 4,
   "id": "3cf789b1",
   "metadata": {},
   "outputs": [
    {
     "data": {
      "text/plain": [
       "Index(['id', 'building_class', 'floor_area', 'year_built',\n",
       "       'precipitation_inches', 'snowfall_inches', 'avg_temp', 'days_with_fog',\n",
       "       'site_eui'],\n",
       "      dtype='object')"
      ]
     },
     "execution_count": 4,
     "metadata": {},
     "output_type": "execute_result"
    }
   ],
   "source": [
    "c_df.columns"
   ]
  },
  {
   "cell_type": "code",
   "execution_count": 5,
   "id": "e7c1b02c",
   "metadata": {},
   "outputs": [
    {
     "name": "stdout",
     "output_type": "stream",
     "text": [
      "id                        int64\n",
      "building_class           object\n",
      "floor_area              float64\n",
      "year_built              float64\n",
      "precipitation_inches    float64\n",
      "snowfall_inches         float64\n",
      "avg_temp                float64\n",
      "days_with_fog           float64\n",
      "site_eui                float64\n",
      "dtype: object\n"
     ]
    }
   ],
   "source": [
    "print(c_df.dtypes)"
   ]
  },
  {
   "cell_type": "markdown",
   "id": "dd1cc76f",
   "metadata": {},
   "source": [
    "# Unique Value Analysis"
   ]
  },
  {
   "cell_type": "code",
   "execution_count": 6,
   "id": "1290562c",
   "metadata": {},
   "outputs": [
    {
     "name": "stdout",
     "output_type": "stream",
     "text": [
      "['Commercial' 'Residential']\n"
     ]
    }
   ],
   "source": [
    "print(c_df['building_class'].unique())"
   ]
  },
  {
   "cell_type": "markdown",
   "id": "6dd7e10d",
   "metadata": {},
   "source": [
    "# Descriptive Statistics"
   ]
  },
  {
   "cell_type": "code",
   "execution_count": 7,
   "id": "339793a6",
   "metadata": {},
   "outputs": [
    {
     "data": {
      "text/html": [
       "<div>\n",
       "<style scoped>\n",
       "    .dataframe tbody tr th:only-of-type {\n",
       "        vertical-align: middle;\n",
       "    }\n",
       "\n",
       "    .dataframe tbody tr th {\n",
       "        vertical-align: top;\n",
       "    }\n",
       "\n",
       "    .dataframe thead th {\n",
       "        text-align: right;\n",
       "    }\n",
       "</style>\n",
       "<table border=\"1\" class=\"dataframe\">\n",
       "  <thead>\n",
       "    <tr style=\"text-align: right;\">\n",
       "      <th></th>\n",
       "      <th>id</th>\n",
       "      <th>floor_area</th>\n",
       "      <th>year_built</th>\n",
       "      <th>precipitation_inches</th>\n",
       "      <th>snowfall_inches</th>\n",
       "      <th>avg_temp</th>\n",
       "      <th>days_with_fog</th>\n",
       "      <th>site_eui</th>\n",
       "    </tr>\n",
       "  </thead>\n",
       "  <tbody>\n",
       "    <tr>\n",
       "      <th>count</th>\n",
       "      <td>75757.000000</td>\n",
       "      <td>7.575700e+04</td>\n",
       "      <td>73920.000000</td>\n",
       "      <td>75757.000000</td>\n",
       "      <td>75757.000000</td>\n",
       "      <td>75757.000000</td>\n",
       "      <td>29961.000000</td>\n",
       "      <td>75757.000000</td>\n",
       "    </tr>\n",
       "    <tr>\n",
       "      <th>mean</th>\n",
       "      <td>37878.000000</td>\n",
       "      <td>1.659839e+05</td>\n",
       "      <td>1952.306764</td>\n",
       "      <td>42.430651</td>\n",
       "      <td>29.136379</td>\n",
       "      <td>56.176705</td>\n",
       "      <td>109.142051</td>\n",
       "      <td>82.584707</td>\n",
       "    </tr>\n",
       "    <tr>\n",
       "      <th>std</th>\n",
       "      <td>21869.306509</td>\n",
       "      <td>2.468758e+05</td>\n",
       "      <td>37.053619</td>\n",
       "      <td>10.592205</td>\n",
       "      <td>17.810894</td>\n",
       "      <td>2.241940</td>\n",
       "      <td>50.699751</td>\n",
       "      <td>58.255413</td>\n",
       "    </tr>\n",
       "    <tr>\n",
       "      <th>min</th>\n",
       "      <td>0.000000</td>\n",
       "      <td>9.430000e+02</td>\n",
       "      <td>0.000000</td>\n",
       "      <td>0.000000</td>\n",
       "      <td>0.000000</td>\n",
       "      <td>44.512329</td>\n",
       "      <td>12.000000</td>\n",
       "      <td>1.000000</td>\n",
       "    </tr>\n",
       "    <tr>\n",
       "      <th>25%</th>\n",
       "      <td>18939.000000</td>\n",
       "      <td>6.237900e+04</td>\n",
       "      <td>1927.000000</td>\n",
       "      <td>39.350000</td>\n",
       "      <td>9.600000</td>\n",
       "      <td>55.147541</td>\n",
       "      <td>88.000000</td>\n",
       "      <td>54.530000</td>\n",
       "    </tr>\n",
       "    <tr>\n",
       "      <th>50%</th>\n",
       "      <td>37878.000000</td>\n",
       "      <td>9.136700e+04</td>\n",
       "      <td>1951.000000</td>\n",
       "      <td>42.170000</td>\n",
       "      <td>31.600000</td>\n",
       "      <td>56.835616</td>\n",
       "      <td>104.000000</td>\n",
       "      <td>75.290000</td>\n",
       "    </tr>\n",
       "    <tr>\n",
       "      <th>75%</th>\n",
       "      <td>56817.000000</td>\n",
       "      <td>1.660000e+05</td>\n",
       "      <td>1977.000000</td>\n",
       "      <td>46.320000</td>\n",
       "      <td>49.100000</td>\n",
       "      <td>57.215847</td>\n",
       "      <td>131.000000</td>\n",
       "      <td>97.280000</td>\n",
       "    </tr>\n",
       "    <tr>\n",
       "      <th>max</th>\n",
       "      <td>75756.000000</td>\n",
       "      <td>6.385382e+06</td>\n",
       "      <td>2015.000000</td>\n",
       "      <td>107.690000</td>\n",
       "      <td>127.300000</td>\n",
       "      <td>77.245205</td>\n",
       "      <td>311.000000</td>\n",
       "      <td>997.870000</td>\n",
       "    </tr>\n",
       "  </tbody>\n",
       "</table>\n",
       "</div>"
      ],
      "text/plain": [
       "                 id    floor_area    year_built  precipitation_inches  \\\n",
       "count  75757.000000  7.575700e+04  73920.000000          75757.000000   \n",
       "mean   37878.000000  1.659839e+05   1952.306764             42.430651   \n",
       "std    21869.306509  2.468758e+05     37.053619             10.592205   \n",
       "min        0.000000  9.430000e+02      0.000000              0.000000   \n",
       "25%    18939.000000  6.237900e+04   1927.000000             39.350000   \n",
       "50%    37878.000000  9.136700e+04   1951.000000             42.170000   \n",
       "75%    56817.000000  1.660000e+05   1977.000000             46.320000   \n",
       "max    75756.000000  6.385382e+06   2015.000000            107.690000   \n",
       "\n",
       "       snowfall_inches      avg_temp  days_with_fog      site_eui  \n",
       "count     75757.000000  75757.000000   29961.000000  75757.000000  \n",
       "mean         29.136379     56.176705     109.142051     82.584707  \n",
       "std          17.810894      2.241940      50.699751     58.255413  \n",
       "min           0.000000     44.512329      12.000000      1.000000  \n",
       "25%           9.600000     55.147541      88.000000     54.530000  \n",
       "50%          31.600000     56.835616     104.000000     75.290000  \n",
       "75%          49.100000     57.215847     131.000000     97.280000  \n",
       "max         127.300000     77.245205     311.000000    997.870000  "
      ]
     },
     "execution_count": 7,
     "metadata": {},
     "output_type": "execute_result"
    }
   ],
   "source": [
    "c_df.describe()"
   ]
  },
  {
   "cell_type": "markdown",
   "id": "e3eb6794",
   "metadata": {},
   "source": [
    "# Missing Values Assessment"
   ]
  },
  {
   "cell_type": "code",
   "execution_count": 8,
   "id": "b55efd80",
   "metadata": {},
   "outputs": [
    {
     "name": "stdout",
     "output_type": "stream",
     "text": [
      "Invalid Entries:\n",
      " id                      0\n",
      "building_class          0\n",
      "floor_area              0\n",
      "year_built              0\n",
      "precipitation_inches    0\n",
      "snowfall_inches         0\n",
      "avg_temp                0\n",
      "days_with_fog           0\n",
      "site_eui                0\n",
      "dtype: int64\n"
     ]
    }
   ],
   "source": [
    "invalid_entries=c_df[c_df.select_dtypes(include=['number'])<0].count()\n",
    "print(\"Invalid Entries:\\n\",invalid_entries)"
   ]
  },
  {
   "cell_type": "code",
   "execution_count": 10,
   "id": "43202512",
   "metadata": {},
   "outputs": [
    {
     "name": "stdout",
     "output_type": "stream",
     "text": [
      "Missing data:\n",
      " id                          0\n",
      "building_class              0\n",
      "floor_area                  0\n",
      "year_built               1837\n",
      "precipitation_inches        0\n",
      "snowfall_inches             0\n",
      "avg_temp                    0\n",
      "days_with_fog           45796\n",
      "site_eui                    0\n",
      "dtype: int64\n"
     ]
    }
   ],
   "source": [
    "missing_df=c_df.isnull().sum()\n",
    "print('Missing data:\\n',missing_df)"
   ]
  },
  {
   "cell_type": "markdown",
   "id": "859ce21b",
   "metadata": {},
   "source": [
    "There looks to be approximately 1837 missing entries in the year_built column and 45,796 entries missing in the days_with_fog column"
   ]
  },
  {
   "cell_type": "markdown",
   "id": "83497218",
   "metadata": {},
   "source": [
    "# Missing Data Handling"
   ]
  },
  {
   "cell_type": "markdown",
   "id": "9bb43100",
   "metadata": {},
   "source": [
    "There are multiple ways to handle the missing data in the dataset, so we'll explore two of them here"
   ]
  },
  {
   "cell_type": "code",
   "execution_count": null,
   "id": "4c4427a3",
   "metadata": {},
   "outputs": [],
   "source": []
  },
  {
   "cell_type": "markdown",
   "id": "e94f0d1c",
   "metadata": {},
   "source": [
    "# Duplicate Records"
   ]
  },
  {
   "cell_type": "code",
   "execution_count": null,
   "id": "c3db1396",
   "metadata": {},
   "outputs": [],
   "source": []
  },
  {
   "cell_type": "markdown",
   "id": "da9e30c2",
   "metadata": {},
   "source": [
    "# Outlier Detection with Boxplots"
   ]
  },
  {
   "cell_type": "code",
   "execution_count": null,
   "id": "eebd4853",
   "metadata": {},
   "outputs": [],
   "source": []
  },
  {
   "cell_type": "markdown",
   "id": "8f0051e1",
   "metadata": {},
   "source": [
    "# Histogram Analysis for Distribution"
   ]
  },
  {
   "cell_type": "code",
   "execution_count": null,
   "id": "65bf3468",
   "metadata": {},
   "outputs": [],
   "source": []
  },
  {
   "cell_type": "markdown",
   "id": "73ab7da8",
   "metadata": {},
   "source": [
    "# Feature Scaling"
   ]
  },
  {
   "cell_type": "code",
   "execution_count": null,
   "id": "05d15edb",
   "metadata": {},
   "outputs": [],
   "source": []
  }
 ],
 "metadata": {
  "kernelspec": {
   "display_name": "Python 3 (ipykernel)",
   "language": "python",
   "name": "python3"
  },
  "language_info": {
   "codemirror_mode": {
    "name": "ipython",
    "version": 3
   },
   "file_extension": ".py",
   "mimetype": "text/x-python",
   "name": "python",
   "nbconvert_exporter": "python",
   "pygments_lexer": "ipython3",
   "version": "3.10.12"
  }
 },
 "nbformat": 4,
 "nbformat_minor": 5
}
