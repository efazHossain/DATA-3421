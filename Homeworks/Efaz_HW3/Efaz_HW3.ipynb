{
 "cells": [
  {
   "cell_type": "markdown",
   "id": "bec645f2",
   "metadata": {},
   "source": [
    "# Import Statements"
   ]
  },
  {
   "cell_type": "code",
   "execution_count": 1,
   "id": "fc685605",
   "metadata": {},
   "outputs": [],
   "source": [
    "import numpy as np\n",
    "import cv2 as cv"
   ]
  },
  {
   "cell_type": "markdown",
   "id": "40edfa72",
   "metadata": {},
   "source": [
    "# 1. Loading and Displaying Image"
   ]
  },
  {
   "cell_type": "code",
   "execution_count": 2,
   "id": "87f49a4a",
   "metadata": {},
   "outputs": [],
   "source": [
    "charles = cv.imread('charles.png') \n",
    "panda = cv.imread('Panda.png')"
   ]
  },
  {
   "cell_type": "code",
   "execution_count": null,
   "id": "f50ea398",
   "metadata": {},
   "outputs": [],
   "source": [
    "cv.imshow('charles', charles) \n",
    "cv.waitKey(0)"
   ]
  },
  {
   "cell_type": "code",
   "execution_count": null,
   "id": "c20af487",
   "metadata": {},
   "outputs": [],
   "source": [
    "cv.imshow('Panda', panda)\n",
    "cv.waitKey(0)"
   ]
  },
  {
   "cell_type": "markdown",
   "id": "3e349372",
   "metadata": {},
   "source": [
    "# 2. Color Space Conversion"
   ]
  },
  {
   "cell_type": "code",
   "execution_count": null,
   "id": "5edcf4f0",
   "metadata": {},
   "outputs": [],
   "source": []
  },
  {
   "cell_type": "markdown",
   "id": "7e82f9d4",
   "metadata": {},
   "source": [
    "# 3. Image Resizing"
   ]
  },
  {
   "cell_type": "code",
   "execution_count": null,
   "id": "02732164",
   "metadata": {},
   "outputs": [],
   "source": []
  },
  {
   "cell_type": "markdown",
   "id": "a8b875de",
   "metadata": {},
   "source": [
    "# 4. Image Thresholding"
   ]
  },
  {
   "cell_type": "code",
   "execution_count": null,
   "id": "d6f8f4f6",
   "metadata": {},
   "outputs": [],
   "source": []
  },
  {
   "cell_type": "markdown",
   "id": "a9edbb71",
   "metadata": {},
   "source": [
    "# 5. Brightness Adjustment"
   ]
  },
  {
   "cell_type": "code",
   "execution_count": null,
   "id": "6beefc0e",
   "metadata": {},
   "outputs": [],
   "source": []
  },
  {
   "cell_type": "markdown",
   "id": "bd39e216",
   "metadata": {},
   "source": [
    "# 6. Blurring and Smoothing"
   ]
  },
  {
   "cell_type": "code",
   "execution_count": null,
   "id": "41eb42f2",
   "metadata": {},
   "outputs": [],
   "source": []
  },
  {
   "cell_type": "markdown",
   "id": "4cb5be8b",
   "metadata": {},
   "source": [
    "# 7. Image Indexing and Cropping"
   ]
  },
  {
   "cell_type": "code",
   "execution_count": null,
   "id": "6a0f76e5",
   "metadata": {},
   "outputs": [],
   "source": []
  },
  {
   "cell_type": "markdown",
   "id": "4a432c34",
   "metadata": {},
   "source": [
    "# 8. Image Rotation"
   ]
  },
  {
   "cell_type": "code",
   "execution_count": null,
   "id": "4577f2ea",
   "metadata": {},
   "outputs": [],
   "source": []
  },
  {
   "cell_type": "markdown",
   "id": "46c504f8",
   "metadata": {},
   "source": [
    "# 9. Image Flipping"
   ]
  },
  {
   "cell_type": "code",
   "execution_count": null,
   "id": "f10f8c8f",
   "metadata": {},
   "outputs": [],
   "source": []
  },
  {
   "cell_type": "markdown",
   "id": "21b2ee9e",
   "metadata": {},
   "source": [
    "# 10. Edge Detection"
   ]
  },
  {
   "cell_type": "code",
   "execution_count": null,
   "id": "41d51fd5",
   "metadata": {},
   "outputs": [],
   "source": []
  },
  {
   "cell_type": "markdown",
   "id": "b09a08ac",
   "metadata": {},
   "source": [
    "# 11. Gradients in Image"
   ]
  },
  {
   "cell_type": "code",
   "execution_count": null,
   "id": "f0fff013",
   "metadata": {},
   "outputs": [],
   "source": []
  }
 ],
 "metadata": {
  "kernelspec": {
   "display_name": "Python 3 (ipykernel)",
   "language": "python",
   "name": "python3"
  },
  "language_info": {
   "codemirror_mode": {
    "name": "ipython",
    "version": 3
   },
   "file_extension": ".py",
   "mimetype": "text/x-python",
   "name": "python",
   "nbconvert_exporter": "python",
   "pygments_lexer": "ipython3",
   "version": "3.10.12"
  }
 },
 "nbformat": 4,
 "nbformat_minor": 5
}
